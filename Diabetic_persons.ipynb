{
  "nbformat": 4,
  "nbformat_minor": 0,
  "metadata": {
    "colab": {
      "provenance": [],
      "collapsed_sections": [
        "OJZ7j0Ysv6IU",
        "-yxM-C0Wv2Xt",
        "BdcaOWEFwF41"
      ]
    },
    "kernelspec": {
      "name": "python3",
      "display_name": "Python 3"
    },
    "language_info": {
      "name": "python"
    },
    "gpuClass": "standard",
    "accelerator": "GPU"
  },
  "cells": [
    {
      "cell_type": "code",
      "execution_count": null,
      "metadata": {
        "id": "UUvapMgvsVDg",
        "colab": {
          "base_uri": "https://localhost:8080/"
        },
        "outputId": "4ec55a40-2e00-4eca-c3c3-b247368558eb"
      },
      "outputs": [
        {
          "output_type": "stream",
          "name": "stdout",
          "text": [
            "Looking in indexes: https://pypi.org/simple, https://us-python.pkg.dev/colab-wheels/public/simple/\n",
            "Requirement already satisfied: torchmetrics==0.8.2 in /usr/local/lib/python3.8/dist-packages (0.8.2)\n",
            "Requirement already satisfied: packaging in /usr/local/lib/python3.8/dist-packages (from torchmetrics==0.8.2) (23.0)\n",
            "Requirement already satisfied: torch>=1.3.1 in /usr/local/lib/python3.8/dist-packages (from torchmetrics==0.8.2) (1.13.1+cu116)\n",
            "Requirement already satisfied: pyDeprecate==0.3.* in /usr/local/lib/python3.8/dist-packages (from torchmetrics==0.8.2) (0.3.2)\n",
            "Requirement already satisfied: numpy>=1.17.2 in /usr/local/lib/python3.8/dist-packages (from torchmetrics==0.8.2) (1.22.4)\n",
            "Requirement already satisfied: typing-extensions in /usr/local/lib/python3.8/dist-packages (from torch>=1.3.1->torchmetrics==0.8.2) (4.5.0)\n"
          ]
        }
      ],
      "source": [
        "import torch\n",
        "import torch.nn as nn\n",
        "import torchvision\n",
        "import pandas as pd\n",
        "from torch.utils.data import Dataset,DataLoader\n",
        "from sklearn.preprocessing import StandardScaler #normal datas\n",
        "from sklearn.model_selection import train_test_split\n",
        "import numpy as np\n",
        "import matplotlib.pyplot as plt\n",
        "from sklearn.metrics import confusion_matrix,ConfusionMatrixDisplay\n",
        "from torchvision import transforms\n",
        "device = 'cuda' if torch.cuda.is_available() else 'cpu'\n",
        "!pip install torchmetrics==0.8.2\n"
      ]
    },
    {
      "cell_type": "code",
      "source": [
        "!gdown --id 17n3UV16quhH4PLMAn_SlIDyYGcTsQhiG"
      ],
      "metadata": {
        "colab": {
          "base_uri": "https://localhost:8080/"
        },
        "id": "IMUF4bYZuQAH",
        "outputId": "ef645390-4bb0-45e3-cc27-abcdb64b0467"
      },
      "execution_count": null,
      "outputs": [
        {
          "output_type": "stream",
          "name": "stdout",
          "text": [
            "/usr/local/lib/python3.8/dist-packages/gdown/cli.py:127: FutureWarning: Option `--id` was deprecated in version 4.3.1 and will be removed in 5.0. You don't need to pass it anymore to use a file ID.\n",
            "  warnings.warn(\n",
            "Downloading...\n",
            "From: https://drive.google.com/uc?id=17n3UV16quhH4PLMAn_SlIDyYGcTsQhiG\n",
            "To: /content/diabetes.csv\n",
            "100% 24.8k/24.8k [00:00<00:00, 32.7MB/s]\n"
          ]
        }
      ]
    },
    {
      "cell_type": "code",
      "source": [
        "diabet_data = pd.read_csv('/content/diabetes.csv')\n",
        "diabet_data.head(12)"
      ],
      "metadata": {
        "colab": {
          "base_uri": "https://localhost:8080/",
          "height": 425
        },
        "id": "29HVZjGkuQT4",
        "outputId": "cef6f821-7266-4f60-f083-ab885c1659d7"
      },
      "execution_count": null,
      "outputs": [
        {
          "output_type": "execute_result",
          "data": {
            "text/plain": [
              "    Number of times pregnant  Plasma glucose concentration  \\\n",
              "0                          6                           148   \n",
              "1                          1                            85   \n",
              "2                          8                           183   \n",
              "3                          1                            89   \n",
              "4                          0                           137   \n",
              "5                          5                           116   \n",
              "6                          3                            78   \n",
              "7                         10                           115   \n",
              "8                          2                           197   \n",
              "9                          8                           125   \n",
              "10                         4                           110   \n",
              "11                        10                           168   \n",
              "\n",
              "    Diastolic blood pressure  Triceps skin fold thickness  \\\n",
              "0                         72                           35   \n",
              "1                         66                           29   \n",
              "2                         64                            0   \n",
              "3                         66                           23   \n",
              "4                         40                           35   \n",
              "5                         74                            0   \n",
              "6                         50                           32   \n",
              "7                          0                            0   \n",
              "8                         70                           45   \n",
              "9                         96                            0   \n",
              "10                        92                            0   \n",
              "11                        74                            0   \n",
              "\n",
              "    2-Hour serum insulin  Body mass index  Age     Class  \n",
              "0                      0             33.6   50  positive  \n",
              "1                      0             26.6   31  negative  \n",
              "2                      0             23.3   32  positive  \n",
              "3                     94             28.1   21  negative  \n",
              "4                    168             43.1   33  positive  \n",
              "5                      0             25.6   30  negative  \n",
              "6                     88             31.0   26  positive  \n",
              "7                      0             35.3   29  negative  \n",
              "8                    543             30.5   53  positive  \n",
              "9                      0              0.0   54  positive  \n",
              "10                     0             37.6   30  negative  \n",
              "11                     0             38.0   34  positive  "
            ],
            "text/html": [
              "\n",
              "  <div id=\"df-33024929-0a5b-491e-8716-18e1b45a040b\">\n",
              "    <div class=\"colab-df-container\">\n",
              "      <div>\n",
              "<style scoped>\n",
              "    .dataframe tbody tr th:only-of-type {\n",
              "        vertical-align: middle;\n",
              "    }\n",
              "\n",
              "    .dataframe tbody tr th {\n",
              "        vertical-align: top;\n",
              "    }\n",
              "\n",
              "    .dataframe thead th {\n",
              "        text-align: right;\n",
              "    }\n",
              "</style>\n",
              "<table border=\"1\" class=\"dataframe\">\n",
              "  <thead>\n",
              "    <tr style=\"text-align: right;\">\n",
              "      <th></th>\n",
              "      <th>Number of times pregnant</th>\n",
              "      <th>Plasma glucose concentration</th>\n",
              "      <th>Diastolic blood pressure</th>\n",
              "      <th>Triceps skin fold thickness</th>\n",
              "      <th>2-Hour serum insulin</th>\n",
              "      <th>Body mass index</th>\n",
              "      <th>Age</th>\n",
              "      <th>Class</th>\n",
              "    </tr>\n",
              "  </thead>\n",
              "  <tbody>\n",
              "    <tr>\n",
              "      <th>0</th>\n",
              "      <td>6</td>\n",
              "      <td>148</td>\n",
              "      <td>72</td>\n",
              "      <td>35</td>\n",
              "      <td>0</td>\n",
              "      <td>33.6</td>\n",
              "      <td>50</td>\n",
              "      <td>positive</td>\n",
              "    </tr>\n",
              "    <tr>\n",
              "      <th>1</th>\n",
              "      <td>1</td>\n",
              "      <td>85</td>\n",
              "      <td>66</td>\n",
              "      <td>29</td>\n",
              "      <td>0</td>\n",
              "      <td>26.6</td>\n",
              "      <td>31</td>\n",
              "      <td>negative</td>\n",
              "    </tr>\n",
              "    <tr>\n",
              "      <th>2</th>\n",
              "      <td>8</td>\n",
              "      <td>183</td>\n",
              "      <td>64</td>\n",
              "      <td>0</td>\n",
              "      <td>0</td>\n",
              "      <td>23.3</td>\n",
              "      <td>32</td>\n",
              "      <td>positive</td>\n",
              "    </tr>\n",
              "    <tr>\n",
              "      <th>3</th>\n",
              "      <td>1</td>\n",
              "      <td>89</td>\n",
              "      <td>66</td>\n",
              "      <td>23</td>\n",
              "      <td>94</td>\n",
              "      <td>28.1</td>\n",
              "      <td>21</td>\n",
              "      <td>negative</td>\n",
              "    </tr>\n",
              "    <tr>\n",
              "      <th>4</th>\n",
              "      <td>0</td>\n",
              "      <td>137</td>\n",
              "      <td>40</td>\n",
              "      <td>35</td>\n",
              "      <td>168</td>\n",
              "      <td>43.1</td>\n",
              "      <td>33</td>\n",
              "      <td>positive</td>\n",
              "    </tr>\n",
              "    <tr>\n",
              "      <th>5</th>\n",
              "      <td>5</td>\n",
              "      <td>116</td>\n",
              "      <td>74</td>\n",
              "      <td>0</td>\n",
              "      <td>0</td>\n",
              "      <td>25.6</td>\n",
              "      <td>30</td>\n",
              "      <td>negative</td>\n",
              "    </tr>\n",
              "    <tr>\n",
              "      <th>6</th>\n",
              "      <td>3</td>\n",
              "      <td>78</td>\n",
              "      <td>50</td>\n",
              "      <td>32</td>\n",
              "      <td>88</td>\n",
              "      <td>31.0</td>\n",
              "      <td>26</td>\n",
              "      <td>positive</td>\n",
              "    </tr>\n",
              "    <tr>\n",
              "      <th>7</th>\n",
              "      <td>10</td>\n",
              "      <td>115</td>\n",
              "      <td>0</td>\n",
              "      <td>0</td>\n",
              "      <td>0</td>\n",
              "      <td>35.3</td>\n",
              "      <td>29</td>\n",
              "      <td>negative</td>\n",
              "    </tr>\n",
              "    <tr>\n",
              "      <th>8</th>\n",
              "      <td>2</td>\n",
              "      <td>197</td>\n",
              "      <td>70</td>\n",
              "      <td>45</td>\n",
              "      <td>543</td>\n",
              "      <td>30.5</td>\n",
              "      <td>53</td>\n",
              "      <td>positive</td>\n",
              "    </tr>\n",
              "    <tr>\n",
              "      <th>9</th>\n",
              "      <td>8</td>\n",
              "      <td>125</td>\n",
              "      <td>96</td>\n",
              "      <td>0</td>\n",
              "      <td>0</td>\n",
              "      <td>0.0</td>\n",
              "      <td>54</td>\n",
              "      <td>positive</td>\n",
              "    </tr>\n",
              "    <tr>\n",
              "      <th>10</th>\n",
              "      <td>4</td>\n",
              "      <td>110</td>\n",
              "      <td>92</td>\n",
              "      <td>0</td>\n",
              "      <td>0</td>\n",
              "      <td>37.6</td>\n",
              "      <td>30</td>\n",
              "      <td>negative</td>\n",
              "    </tr>\n",
              "    <tr>\n",
              "      <th>11</th>\n",
              "      <td>10</td>\n",
              "      <td>168</td>\n",
              "      <td>74</td>\n",
              "      <td>0</td>\n",
              "      <td>0</td>\n",
              "      <td>38.0</td>\n",
              "      <td>34</td>\n",
              "      <td>positive</td>\n",
              "    </tr>\n",
              "  </tbody>\n",
              "</table>\n",
              "</div>\n",
              "      <button class=\"colab-df-convert\" onclick=\"convertToInteractive('df-33024929-0a5b-491e-8716-18e1b45a040b')\"\n",
              "              title=\"Convert this dataframe to an interactive table.\"\n",
              "              style=\"display:none;\">\n",
              "        \n",
              "  <svg xmlns=\"http://www.w3.org/2000/svg\" height=\"24px\"viewBox=\"0 0 24 24\"\n",
              "       width=\"24px\">\n",
              "    <path d=\"M0 0h24v24H0V0z\" fill=\"none\"/>\n",
              "    <path d=\"M18.56 5.44l.94 2.06.94-2.06 2.06-.94-2.06-.94-.94-2.06-.94 2.06-2.06.94zm-11 1L8.5 8.5l.94-2.06 2.06-.94-2.06-.94L8.5 2.5l-.94 2.06-2.06.94zm10 10l.94 2.06.94-2.06 2.06-.94-2.06-.94-.94-2.06-.94 2.06-2.06.94z\"/><path d=\"M17.41 7.96l-1.37-1.37c-.4-.4-.92-.59-1.43-.59-.52 0-1.04.2-1.43.59L10.3 9.45l-7.72 7.72c-.78.78-.78 2.05 0 2.83L4 21.41c.39.39.9.59 1.41.59.51 0 1.02-.2 1.41-.59l7.78-7.78 2.81-2.81c.8-.78.8-2.07 0-2.86zM5.41 20L4 18.59l7.72-7.72 1.47 1.35L5.41 20z\"/>\n",
              "  </svg>\n",
              "      </button>\n",
              "      \n",
              "  <style>\n",
              "    .colab-df-container {\n",
              "      display:flex;\n",
              "      flex-wrap:wrap;\n",
              "      gap: 12px;\n",
              "    }\n",
              "\n",
              "    .colab-df-convert {\n",
              "      background-color: #E8F0FE;\n",
              "      border: none;\n",
              "      border-radius: 50%;\n",
              "      cursor: pointer;\n",
              "      display: none;\n",
              "      fill: #1967D2;\n",
              "      height: 32px;\n",
              "      padding: 0 0 0 0;\n",
              "      width: 32px;\n",
              "    }\n",
              "\n",
              "    .colab-df-convert:hover {\n",
              "      background-color: #E2EBFA;\n",
              "      box-shadow: 0px 1px 2px rgba(60, 64, 67, 0.3), 0px 1px 3px 1px rgba(60, 64, 67, 0.15);\n",
              "      fill: #174EA6;\n",
              "    }\n",
              "\n",
              "    [theme=dark] .colab-df-convert {\n",
              "      background-color: #3B4455;\n",
              "      fill: #D2E3FC;\n",
              "    }\n",
              "\n",
              "    [theme=dark] .colab-df-convert:hover {\n",
              "      background-color: #434B5C;\n",
              "      box-shadow: 0px 1px 3px 1px rgba(0, 0, 0, 0.15);\n",
              "      filter: drop-shadow(0px 1px 2px rgba(0, 0, 0, 0.3));\n",
              "      fill: #FFFFFF;\n",
              "    }\n",
              "  </style>\n",
              "\n",
              "      <script>\n",
              "        const buttonEl =\n",
              "          document.querySelector('#df-33024929-0a5b-491e-8716-18e1b45a040b button.colab-df-convert');\n",
              "        buttonEl.style.display =\n",
              "          google.colab.kernel.accessAllowed ? 'block' : 'none';\n",
              "\n",
              "        async function convertToInteractive(key) {\n",
              "          const element = document.querySelector('#df-33024929-0a5b-491e-8716-18e1b45a040b');\n",
              "          const dataTable =\n",
              "            await google.colab.kernel.invokeFunction('convertToInteractive',\n",
              "                                                     [key], {});\n",
              "          if (!dataTable) return;\n",
              "\n",
              "          const docLinkHtml = 'Like what you see? Visit the ' +\n",
              "            '<a target=\"_blank\" href=https://colab.research.google.com/notebooks/data_table.ipynb>data table notebook</a>'\n",
              "            + ' to learn more about interactive tables.';\n",
              "          element.innerHTML = '';\n",
              "          dataTable['output_type'] = 'display_data';\n",
              "          await google.colab.output.renderOutput(dataTable, element);\n",
              "          const docLink = document.createElement('div');\n",
              "          docLink.innerHTML = docLinkHtml;\n",
              "          element.appendChild(docLink);\n",
              "        }\n",
              "      </script>\n",
              "    </div>\n",
              "  </div>\n",
              "  "
            ]
          },
          "metadata": {},
          "execution_count": 186
        }
      ]
    },
    {
      "cell_type": "code",
      "source": [
        "datas = diabet_data.iloc[:,:-1]\n",
        "labels = diabet_data.iloc[:,-1]"
      ],
      "metadata": {
        "id": "bPKUihmnuccB"
      },
      "execution_count": null,
      "outputs": []
    },
    {
      "cell_type": "code",
      "source": [
        "datas_train , datas_test , labels_train , labels_test = train_test_split(datas , labels , test_size = 0.2 , random_state = None , shuffle = False)\n"
      ],
      "metadata": {
        "id": "GSPh0AvNvPr5"
      },
      "execution_count": null,
      "outputs": []
    },
    {
      "cell_type": "code",
      "source": [
        "scaler = StandardScaler()\n",
        "scaler.fit(datas_train)\n",
        "datas_train_scale = scaler.transform(datas_train)\n",
        "datas_test_scale = scaler.transform(datas_test)"
      ],
      "metadata": {
        "id": "FJPL8TsOu3kB"
      },
      "execution_count": null,
      "outputs": []
    },
    {
      "cell_type": "code",
      "source": [
        "def convert_str(str_input):\n",
        "  label = []\n",
        "  for i in str_input:\n",
        "    if i == 'negative':\n",
        "      label.append(1)\n",
        "    else:\n",
        "      label.append(0)\n",
        "  return label"
      ],
      "metadata": {
        "id": "zHdHwmHtwT_s"
      },
      "execution_count": null,
      "outputs": []
    },
    {
      "cell_type": "code",
      "source": [
        "lables_train_int = convert_str(labels_train)\n",
        "labels_test_int = convert_str(labels_test)"
      ],
      "metadata": {
        "id": "8lZIYJMcxeik"
      },
      "execution_count": null,
      "outputs": []
    },
    {
      "cell_type": "markdown",
      "source": [
        "# dataset and **model**"
      ],
      "metadata": {
        "id": "OjACyqaPv-Ze"
      }
    },
    {
      "cell_type": "code",
      "source": [
        "class mydataset(Dataset):\n",
        "  def __init__(self , datas , labels):\n",
        "    super(mydataset,self).__init__()\n",
        "    self.datas = torch.tensor(datas , dtype=torch.float)\n",
        "    self.labels = torch.tensor(labels , dtype=torch.float).unsqueeze(1)\n",
        "  def __getitem__(self, index):\n",
        "    return self.datas[index] , self.labels[index]\n",
        "  def __len__(self):\n",
        "    return self.datas.shape[0]"
      ],
      "metadata": {
        "id": "pJczA-vtyJ6m"
      },
      "execution_count": null,
      "outputs": []
    },
    {
      "cell_type": "code",
      "source": [
        "trainset = mydataset(datas_train_scale , lables_train_int)\n",
        "trainloader = DataLoader(trainset , shuffle = True , batch_size = 32 )\n",
        "\n",
        "testset = mydataset(datas_test_scale , labels_test_int)\n",
        "testloader = DataLoader(testset , shuffle = False , batch_size = 32 )"
      ],
      "metadata": {
        "id": "9Z9oR5yk4t8t"
      },
      "execution_count": null,
      "outputs": []
    },
    {
      "cell_type": "code",
      "source": [
        "class fnn(nn.Module):\n",
        "  def __init__(self,input,dropout):\n",
        "    super(fnn,self).__init__()\n",
        "    self.mlp = nn.Sequential(nn.Linear(in_features=input , out_features=50),\n",
        "                             nn.ReLU(),\n",
        "                             nn.Dropout(dropout),\n",
        "                             nn.Linear(50,300))\n",
        "                              #3x10x10\n",
        "    self.conv = nn.Sequential(nn.Conv2d(in_channels=3,out_channels=6,kernel_size=3,padding='same'),#6x8x8\n",
        "                              nn.BatchNorm2d(6),\n",
        "                              nn.ReLU(),\n",
        "                              nn.Conv2d(in_channels=6,out_channels=8,kernel_size=3,padding='same'),#8x6x6\n",
        "                              nn.ReLU(),\n",
        "                              nn.Conv2d(in_channels=8,out_channels=3,kernel_size=4),#6x8x8\n",
        "                              nn.BatchNorm2d(3),\n",
        "                              nn.ReLU())\n",
        "    \n",
        "    self.mlp2 = nn.Sequential(nn.ReLU(),\n",
        "                             nn.Linear(147,80),\n",
        "                             nn.ReLU(),\n",
        "                             nn.Linear(80,20),\n",
        "                             nn.Dropout(dropout),\n",
        "                             nn.ReLU(),\n",
        "                             nn.Linear(20,1),\n",
        "                             nn.Sigmoid())\n",
        "    self.flatt = nn.Flatten()\n",
        "  def forward(self,x):\n",
        "    mlp = self.mlp(x)\n",
        "    reshape = torch.reshape(mlp , (-1,3,10,10))\n",
        "    conv = self.conv(reshape)\n",
        "    flattening = self.flatt(conv)\n",
        "    out = self.mlp2(flattening)\n",
        "\n",
        "    return out"
      ],
      "metadata": {
        "id": "wpeo5gag6oO7"
      },
      "execution_count": null,
      "outputs": []
    },
    {
      "cell_type": "code",
      "source": [
        "model = fnn(input=7,dropout=0.4).to(device)\n",
        "# model"
      ],
      "metadata": {
        "id": "t0z30BVUmA6b"
      },
      "execution_count": null,
      "outputs": []
    },
    {
      "cell_type": "markdown",
      "source": [
        "# some setting"
      ],
      "metadata": {
        "id": "OJZ7j0Ysv6IU"
      }
    },
    {
      "cell_type": "code",
      "source": [
        "optimizer = torch.optim.SGD(model.parameters(),lr = 0.02,weight_decay=0.005,momentum=0.9)\n",
        "criterion = nn.BCELoss()"
      ],
      "metadata": {
        "id": "L1QM5PPwmarJ"
      },
      "execution_count": null,
      "outputs": []
    },
    {
      "cell_type": "code",
      "source": [
        "class AverageMeter(object):\n",
        "    \"\"\"Computes and stores the average and current value\"\"\"\n",
        "    def __init__(self):\n",
        "        self.reset()\n",
        "\n",
        "    def reset(self):\n",
        "        self.val = 0\n",
        "        self.avg = 0\n",
        "        self.sum = 0\n",
        "        self.count = 0\n",
        "\n",
        "    def update(self, val, n=1):\n",
        "        self.val = val\n",
        "        self.sum += val * n\n",
        "        self.count += n\n",
        "        self.avg = self.sum / self.count"
      ],
      "metadata": {
        "id": "RFVOVPzmmtX-"
      },
      "execution_count": null,
      "outputs": []
    },
    {
      "cell_type": "code",
      "source": [
        "import logging\n",
        "logging.getLogger().setLevel(logging.INFO)\n",
        "logger = logging.getLogger('Diabet  fnn:  ')"
      ],
      "metadata": {
        "id": "oLrcCA7jniUD"
      },
      "execution_count": null,
      "outputs": []
    },
    {
      "cell_type": "code",
      "source": [
        "import sys\n",
        "import torchmetrics\n",
        "import logging\n",
        "from tqdm import tqdm\n",
        "# logger = logging.getLogger('CIFAR100')\n",
        "# # writer = SummaryWriter('runs/cifar100_resnet18')\n",
        "# writer = SummaryWriter('runs/test1')  #related to tensor board"
      ],
      "metadata": {
        "id": "9XmGXrP5nzlM"
      },
      "execution_count": null,
      "outputs": []
    },
    {
      "cell_type": "markdown",
      "source": [
        "# trian and test"
      ],
      "metadata": {
        "id": "-yxM-C0Wv2Xt"
      }
    },
    {
      "cell_type": "code",
      "source": [
        "train_accuracy=[]\n",
        "train_loss=[]\n",
        "out = []\n",
        "target = []\n",
        "def train_network(model, train_loader, train_dataset):\n",
        "  epoch_accuracy = []\n",
        "  total_loss = AverageMeter()\n",
        "  model.train()\n",
        "  num_corrects =0.0\n",
        "  for (x, labels) in tqdm(train_loader): #for each batch calculate something for 1 epoch.\n",
        "    x, labels = x.to(device) , labels.to(device)\n",
        "    outputs = model(x)\n",
        "    loss = criterion(outputs, labels) #loss between out and lables\n",
        "    optimizer.zero_grad() #befor use next line better to use zero.grad( )\n",
        "    loss.backward()\n",
        "    optimizer.step()\n",
        "    total_loss.update(loss)\n",
        "    num_corrects += ((outputs>=0.5).float() == labels).float().sum()\n",
        "    if epoch==99:\n",
        "      out.append(outputs)\n",
        "      target.append(labels)\n",
        "  avg_acc = num_corrects / len(train_dataset)\n",
        "  epoch_accuracy.append(avg_acc)\n",
        "  train_accuracy.append(avg_acc.cpu())\n",
        "  train_loss.append(total_loss.avg.cpu().detach().numpy() )\n",
        "  logger.info(f'Train: Epoch:{epoch} \\t Loss:{total_loss.avg:.4} \\t Accuracy:{avg_acc:.4}')\n",
        "  # conmat = confusion_matrix(labels, outputs)\n",
        "  return "
      ],
      "metadata": {
        "id": "KJTyb7W7wiBg"
      },
      "execution_count": null,
      "outputs": []
    },
    {
      "cell_type": "code",
      "source": [
        "test_accuracy=[]\n",
        "test_loss=[]\n",
        "def test(model, test_laoder, test_dataset):\n",
        "  model.eval()\n",
        "  total_loss = AverageMeter()\n",
        "  num_corrects =0.0\n",
        "  for (x, labels) in tqdm(test_laoder):\n",
        "    x, labels = x.to(device) , labels.to(device)\n",
        "    outputs = model(x)\n",
        "    loss = criterion(outputs, labels)\n",
        "    total_loss.update(loss)\n",
        "    num_corrects += ((outputs>=0.5).float() == labels).float().sum()\n",
        "  avg_accuracy = num_corrects / len(test_dataset)\n",
        "  test_accuracy.append(avg_accuracy.cpu())\n",
        "  test_loss.append(total_loss.avg.cpu().detach().numpy() )\n",
        "  logger.info(f'Test: Epoch:{epoch} \\t Loss:{total_loss.avg:.4} \\t Accuracy:{avg_accuracy:.4}')\n",
        "  return avg_accuracy,total_loss"
      ],
      "metadata": {
        "id": "0nkB_vFn1Ex1"
      },
      "execution_count": null,
      "outputs": []
    },
    {
      "cell_type": "markdown",
      "source": [
        "# Running and plot"
      ],
      "metadata": {
        "id": "j0kc76K6w440"
      }
    },
    {
      "cell_type": "code",
      "source": [
        "start , end = 0,100\n",
        "for epoch in range(start , end):\n",
        "  train_network(model, trainloader, trainset)\n",
        "  test(model, testloader, testset)\n",
        "  print()"
      ],
      "metadata": {
        "id": "PIV6DEW2pi43"
      },
      "execution_count": null,
      "outputs": []
    },
    {
      "cell_type": "markdown",
      "source": [
        "# Plot results"
      ],
      "metadata": {
        "id": "yOilOaMqNYnf"
      }
    },
    {
      "cell_type": "code",
      "source": [
        "plt.figure(figsize=(14,7))\n",
        "plt.title(\"acc\")\n",
        "plt.plot(train_accuracy,label=\"train\")\n",
        "plt.plot(test_accuracy,label=\"test\")\n",
        "plt.xlabel(\"epoch\")\n",
        "plt.ylabel(\"acc\")\n",
        "plt.legend()\n",
        "plt.show()\n",
        "\n",
        "print('\\n')\n",
        "\n",
        "plt.figure(figsize=(14,7))\n",
        "plt.title(\"loss\")\n",
        "plt.plot(train_loss,label=\"train\")\n",
        "plt.plot(test_loss,label=\"test\")\n",
        "plt.xlabel(\"epoch\")\n",
        "plt.ylabel(\"loss\")\n",
        "plt.legend()\n",
        "plt.show()\n",
        "\n"
      ],
      "metadata": {
        "colab": {
          "base_uri": "https://localhost:8080/",
          "height": 935
        },
        "id": "0QCOX-ukrFU8",
        "outputId": "c2a270fa-0d7d-4f03-a61e-a74a01fc6eb8"
      },
      "execution_count": null,
      "outputs": [
        {
          "output_type": "display_data",
          "data": {
            "text/plain": [
              "<Figure size 1008x504 with 1 Axes>"
            ],
            "image/png": "[encoded data removed]"
          },
          "metadata": {
            "needs_background": "light"
          }
        },
        {
          "output_type": "stream",
          "name": "stdout",
          "text": [
            "\n",
            "\n"
          ]
        },
        {
          "output_type": "display_data",
          "data": {
            "text/plain": [
              "<Figure size 1008x504 with 1 Axes>"
            ],
            "image/png": "[encoded data removed]"
          },
          "metadata": {
            "needs_background": "light"
          }
        }
      ]
    },
    {
      "cell_type": "markdown",
      "source": [
        "# Confusion matrix"
      ],
      "metadata": {
        "id": "3hmlEkR_NMZP"
      }
    },
    {
      "cell_type": "code",
      "source": [
        "pred = []\n",
        "true = []\n",
        "\n",
        "for j in range(20):\n",
        "  for i in range(len(out[j])):\n",
        "    if out[j][i]>0.8:\n",
        "      pred.append(1.0)\n",
        "    else:\n",
        "      pred.append(0.0)\n",
        "\n",
        "for k in range(20):\n",
        "  for l in range(len(target[k])):\n",
        "    if target[k][l]==1:\n",
        "      true.append(1)\n",
        "    else:\n",
        "      true.append(0)"
      ],
      "metadata": {
        "id": "7HNxAWop-3s2"
      },
      "execution_count": null,
      "outputs": []
    },
    {
      "cell_type": "code",
      "source": [
        "cm = confusion_matrix(true,pred)\n",
        "disp = ConfusionMatrixDisplay(confusion_matrix=cm )\n",
        "disp.plot()"
      ],
      "metadata": {
        "colab": {
          "base_uri": "https://localhost:8080/",
          "height": 297
        },
        "id": "G2zKgH7A_q-W",
        "outputId": "0e3d2229-833a-415e-8707-d25a3bf7b24f"
      },
      "execution_count": null,
      "outputs": [
        {
          "output_type": "execute_result",
          "data": {
            "text/plain": [
              "<sklearn.metrics._plot.confusion_matrix.ConfusionMatrixDisplay at 0x7fa505e378e0>"
            ]
          },
          "metadata": {},
          "execution_count": 208
        },
        {
          "output_type": "display_data",
          "data": {
            "text/plain": [
              "<Figure size 432x288 with 2 Axes>"
            ],
            "image/png": "[encoded data removed]"
          },
          "metadata": {
            "needs_background": "light"
          }
        }
      ]
    },
    {
      "cell_type": "markdown",
      "source": [
        "# eval"
      ],
      "metadata": {
        "id": "BdcaOWEFwF41"
      }
    },
    {
      "cell_type": "code",
      "source": [
        "def eval(inputs):\n",
        "  model.eval()\n",
        "  # inputs = torch.tensor(inputs).unsqueeze(0)\n",
        "  inputs = pd.core.frame.DataFrame(inputs)\n",
        "  scaler = StandardScaler()\n",
        "  scaler.fit(inputs)\n",
        "  inputs = scaler.transform(inputs)\n",
        "  inputs =inputs.T\n",
        "  data = torch.tensor(inputs,dtype=torch.float).to(device)\n",
        "  out = model(data)\n",
        "  if out.item()< 0.3:\n",
        "    print(' The result for  person with this information is **Positive** \\n')\n",
        "  else:\n",
        "    print('The result for  person with this information is **Negative** \\n')"
      ],
      "metadata": {
        "id": "n2Z9jslF4xR2"
      },
      "execution_count": null,
      "outputs": []
    },
    {
      "cell_type": "code",
      "source": [
        "new = torch.tensor([2\t,89\t,66,\t23,\t94\t,28.1,\t21])\n",
        "eval(new)"
      ],
      "metadata": {
        "colab": {
          "base_uri": "https://localhost:8080/"
        },
        "id": "-3wcu6k460Lw",
        "outputId": "c75d097d-5a5e-4fb9-d834-f909a15e56df"
      },
      "execution_count": null,
      "outputs": [
        {
          "output_type": "stream",
          "name": "stdout",
          "text": [
            "The result for  person with this information is **Negative** \n",
            "\n"
          ]
        }
      ]
    }
  ]
}